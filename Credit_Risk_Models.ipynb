{
 "cells": [
  {
   "cell_type": "code",
   "execution_count": 268,
   "metadata": {
    "tags": []
   },
   "outputs": [],
   "source": [
    "import numpy as np\n",
    "import pandas as pd\n",
    "from pathlib import Path\n",
    "import pandas as pd\n",
    "from sklearn.model_selection import train_test_split\n",
    "from sklearn.preprocessing import StandardScaler, MinMaxScaler, LabelEncoder\n",
    "import numpy as np"
   ]
  },
  {
   "cell_type": "code",
   "execution_count": 269,
   "metadata": {
    "tags": []
   },
   "outputs": [],
   "source": [
    "train_df = pd.read_csv(Path('Resources/2019loans.csv'))\n",
    "test_df = pd.read_csv(Path('Resources/2020Q1loans.csv'))"
   ]
  },
  {
   "cell_type": "code",
   "execution_count": 270,
   "metadata": {
    "tags": []
   },
   "outputs": [
    {
     "data": {
      "text/plain": [
       "low_risk     6090\n",
       "high_risk    6090\n",
       "Name: loan_status, dtype: int64"
      ]
     },
     "execution_count": 270,
     "metadata": {},
     "output_type": "execute_result"
    }
   ],
   "source": [
    "train_df['loan_status'].value_counts()"
   ]
  },
  {
   "cell_type": "code",
   "execution_count": 271,
   "metadata": {},
   "outputs": [],
   "source": [
    "# dropped target from train"
   ]
  },
  {
   "cell_type": "code",
   "execution_count": 272,
   "metadata": {
    "tags": []
   },
   "outputs": [
    {
     "data": {
      "text/html": [
       "<div>\n",
       "<style scoped>\n",
       "    .dataframe tbody tr th:only-of-type {\n",
       "        vertical-align: middle;\n",
       "    }\n",
       "\n",
       "    .dataframe tbody tr th {\n",
       "        vertical-align: top;\n",
       "    }\n",
       "\n",
       "    .dataframe thead th {\n",
       "        text-align: right;\n",
       "    }\n",
       "</style>\n",
       "<table border=\"1\" class=\"dataframe\">\n",
       "  <thead>\n",
       "    <tr style=\"text-align: right;\">\n",
       "      <th></th>\n",
       "      <th>Unnamed: 0</th>\n",
       "      <th>index</th>\n",
       "      <th>loan_amnt</th>\n",
       "      <th>int_rate</th>\n",
       "      <th>installment</th>\n",
       "      <th>home_ownership</th>\n",
       "      <th>annual_inc</th>\n",
       "      <th>verification_status</th>\n",
       "      <th>pymnt_plan</th>\n",
       "      <th>dti</th>\n",
       "      <th>...</th>\n",
       "      <th>pct_tl_nvr_dlq</th>\n",
       "      <th>percent_bc_gt_75</th>\n",
       "      <th>pub_rec_bankruptcies</th>\n",
       "      <th>tax_liens</th>\n",
       "      <th>tot_hi_cred_lim</th>\n",
       "      <th>total_bal_ex_mort</th>\n",
       "      <th>total_bc_limit</th>\n",
       "      <th>total_il_high_credit_limit</th>\n",
       "      <th>hardship_flag</th>\n",
       "      <th>debt_settlement_flag</th>\n",
       "    </tr>\n",
       "  </thead>\n",
       "  <tbody>\n",
       "    <tr>\n",
       "      <th>0</th>\n",
       "      <td>57107</td>\n",
       "      <td>57107</td>\n",
       "      <td>13375.0</td>\n",
       "      <td>0.1797</td>\n",
       "      <td>483.34</td>\n",
       "      <td>MORTGAGE</td>\n",
       "      <td>223000.0</td>\n",
       "      <td>Not Verified</td>\n",
       "      <td>n</td>\n",
       "      <td>29.99</td>\n",
       "      <td>...</td>\n",
       "      <td>100.0</td>\n",
       "      <td>50.0</td>\n",
       "      <td>0.0</td>\n",
       "      <td>0.0</td>\n",
       "      <td>577150.0</td>\n",
       "      <td>122018.0</td>\n",
       "      <td>32000.0</td>\n",
       "      <td>170200.0</td>\n",
       "      <td>N</td>\n",
       "      <td>N</td>\n",
       "    </tr>\n",
       "    <tr>\n",
       "      <th>1</th>\n",
       "      <td>141451</td>\n",
       "      <td>141451</td>\n",
       "      <td>21000.0</td>\n",
       "      <td>0.1308</td>\n",
       "      <td>478.68</td>\n",
       "      <td>MORTGAGE</td>\n",
       "      <td>123000.0</td>\n",
       "      <td>Source Verified</td>\n",
       "      <td>n</td>\n",
       "      <td>11.26</td>\n",
       "      <td>...</td>\n",
       "      <td>85.0</td>\n",
       "      <td>33.3</td>\n",
       "      <td>0.0</td>\n",
       "      <td>0.0</td>\n",
       "      <td>132750.0</td>\n",
       "      <td>27896.0</td>\n",
       "      <td>15900.0</td>\n",
       "      <td>35398.0</td>\n",
       "      <td>N</td>\n",
       "      <td>N</td>\n",
       "    </tr>\n",
       "    <tr>\n",
       "      <th>2</th>\n",
       "      <td>321143</td>\n",
       "      <td>321143</td>\n",
       "      <td>20000.0</td>\n",
       "      <td>0.1240</td>\n",
       "      <td>448.95</td>\n",
       "      <td>MORTGAGE</td>\n",
       "      <td>197000.0</td>\n",
       "      <td>Source Verified</td>\n",
       "      <td>n</td>\n",
       "      <td>11.28</td>\n",
       "      <td>...</td>\n",
       "      <td>85.7</td>\n",
       "      <td>33.3</td>\n",
       "      <td>0.0</td>\n",
       "      <td>0.0</td>\n",
       "      <td>628160.0</td>\n",
       "      <td>114043.0</td>\n",
       "      <td>22600.0</td>\n",
       "      <td>90340.0</td>\n",
       "      <td>N</td>\n",
       "      <td>N</td>\n",
       "    </tr>\n",
       "    <tr>\n",
       "      <th>3</th>\n",
       "      <td>11778</td>\n",
       "      <td>11778</td>\n",
       "      <td>3000.0</td>\n",
       "      <td>0.1240</td>\n",
       "      <td>100.22</td>\n",
       "      <td>RENT</td>\n",
       "      <td>45000.0</td>\n",
       "      <td>Not Verified</td>\n",
       "      <td>n</td>\n",
       "      <td>18.08</td>\n",
       "      <td>...</td>\n",
       "      <td>100.0</td>\n",
       "      <td>16.7</td>\n",
       "      <td>1.0</td>\n",
       "      <td>0.0</td>\n",
       "      <td>42006.0</td>\n",
       "      <td>20761.0</td>\n",
       "      <td>19900.0</td>\n",
       "      <td>15406.0</td>\n",
       "      <td>N</td>\n",
       "      <td>N</td>\n",
       "    </tr>\n",
       "    <tr>\n",
       "      <th>4</th>\n",
       "      <td>169382</td>\n",
       "      <td>169382</td>\n",
       "      <td>30000.0</td>\n",
       "      <td>0.1612</td>\n",
       "      <td>1056.49</td>\n",
       "      <td>MORTGAGE</td>\n",
       "      <td>133000.0</td>\n",
       "      <td>Source Verified</td>\n",
       "      <td>n</td>\n",
       "      <td>27.77</td>\n",
       "      <td>...</td>\n",
       "      <td>100.0</td>\n",
       "      <td>66.7</td>\n",
       "      <td>0.0</td>\n",
       "      <td>0.0</td>\n",
       "      <td>283248.0</td>\n",
       "      <td>109056.0</td>\n",
       "      <td>79500.0</td>\n",
       "      <td>58778.0</td>\n",
       "      <td>N</td>\n",
       "      <td>N</td>\n",
       "    </tr>\n",
       "    <tr>\n",
       "      <th>...</th>\n",
       "      <td>...</td>\n",
       "      <td>...</td>\n",
       "      <td>...</td>\n",
       "      <td>...</td>\n",
       "      <td>...</td>\n",
       "      <td>...</td>\n",
       "      <td>...</td>\n",
       "      <td>...</td>\n",
       "      <td>...</td>\n",
       "      <td>...</td>\n",
       "      <td>...</td>\n",
       "      <td>...</td>\n",
       "      <td>...</td>\n",
       "      <td>...</td>\n",
       "      <td>...</td>\n",
       "      <td>...</td>\n",
       "      <td>...</td>\n",
       "      <td>...</td>\n",
       "      <td>...</td>\n",
       "      <td>...</td>\n",
       "      <td>...</td>\n",
       "    </tr>\n",
       "    <tr>\n",
       "      <th>12175</th>\n",
       "      <td>354912</td>\n",
       "      <td>354912</td>\n",
       "      <td>19975.0</td>\n",
       "      <td>0.2565</td>\n",
       "      <td>801.09</td>\n",
       "      <td>RENT</td>\n",
       "      <td>28000.0</td>\n",
       "      <td>Not Verified</td>\n",
       "      <td>n</td>\n",
       "      <td>28.42</td>\n",
       "      <td>...</td>\n",
       "      <td>100.0</td>\n",
       "      <td>16.7</td>\n",
       "      <td>0.0</td>\n",
       "      <td>0.0</td>\n",
       "      <td>50055.0</td>\n",
       "      <td>28192.0</td>\n",
       "      <td>18700.0</td>\n",
       "      <td>19055.0</td>\n",
       "      <td>N</td>\n",
       "      <td>N</td>\n",
       "    </tr>\n",
       "    <tr>\n",
       "      <th>12176</th>\n",
       "      <td>354944</td>\n",
       "      <td>354944</td>\n",
       "      <td>15000.0</td>\n",
       "      <td>0.1774</td>\n",
       "      <td>540.34</td>\n",
       "      <td>RENT</td>\n",
       "      <td>50000.0</td>\n",
       "      <td>Verified</td>\n",
       "      <td>n</td>\n",
       "      <td>23.43</td>\n",
       "      <td>...</td>\n",
       "      <td>90.5</td>\n",
       "      <td>11.1</td>\n",
       "      <td>0.0</td>\n",
       "      <td>0.0</td>\n",
       "      <td>70324.0</td>\n",
       "      <td>57025.0</td>\n",
       "      <td>13300.0</td>\n",
       "      <td>54824.0</td>\n",
       "      <td>N</td>\n",
       "      <td>N</td>\n",
       "    </tr>\n",
       "    <tr>\n",
       "      <th>12177</th>\n",
       "      <td>354973</td>\n",
       "      <td>354973</td>\n",
       "      <td>3600.0</td>\n",
       "      <td>0.1862</td>\n",
       "      <td>131.28</td>\n",
       "      <td>RENT</td>\n",
       "      <td>60000.0</td>\n",
       "      <td>Not Verified</td>\n",
       "      <td>n</td>\n",
       "      <td>28.80</td>\n",
       "      <td>...</td>\n",
       "      <td>100.0</td>\n",
       "      <td>0.0</td>\n",
       "      <td>0.0</td>\n",
       "      <td>0.0</td>\n",
       "      <td>83765.0</td>\n",
       "      <td>55156.0</td>\n",
       "      <td>14800.0</td>\n",
       "      <td>53065.0</td>\n",
       "      <td>N</td>\n",
       "      <td>N</td>\n",
       "    </tr>\n",
       "    <tr>\n",
       "      <th>12178</th>\n",
       "      <td>355002</td>\n",
       "      <td>355002</td>\n",
       "      <td>15000.0</td>\n",
       "      <td>0.0881</td>\n",
       "      <td>475.68</td>\n",
       "      <td>MORTGAGE</td>\n",
       "      <td>62000.0</td>\n",
       "      <td>Source Verified</td>\n",
       "      <td>n</td>\n",
       "      <td>11.44</td>\n",
       "      <td>...</td>\n",
       "      <td>100.0</td>\n",
       "      <td>0.0</td>\n",
       "      <td>0.0</td>\n",
       "      <td>0.0</td>\n",
       "      <td>189930.0</td>\n",
       "      <td>23748.0</td>\n",
       "      <td>7000.0</td>\n",
       "      <td>32930.0</td>\n",
       "      <td>N</td>\n",
       "      <td>N</td>\n",
       "    </tr>\n",
       "    <tr>\n",
       "      <th>12179</th>\n",
       "      <td>355307</td>\n",
       "      <td>355307</td>\n",
       "      <td>15000.0</td>\n",
       "      <td>0.1774</td>\n",
       "      <td>540.34</td>\n",
       "      <td>RENT</td>\n",
       "      <td>54080.0</td>\n",
       "      <td>Not Verified</td>\n",
       "      <td>n</td>\n",
       "      <td>21.66</td>\n",
       "      <td>...</td>\n",
       "      <td>90.0</td>\n",
       "      <td>100.0</td>\n",
       "      <td>0.0</td>\n",
       "      <td>0.0</td>\n",
       "      <td>48968.0</td>\n",
       "      <td>29786.0</td>\n",
       "      <td>2900.0</td>\n",
       "      <td>33968.0</td>\n",
       "      <td>N</td>\n",
       "      <td>N</td>\n",
       "    </tr>\n",
       "  </tbody>\n",
       "</table>\n",
       "<p>12180 rows × 85 columns</p>\n",
       "</div>"
      ],
      "text/plain": [
       "       Unnamed: 0   index  loan_amnt  int_rate  installment home_ownership  \\\n",
       "0           57107   57107    13375.0    0.1797       483.34       MORTGAGE   \n",
       "1          141451  141451    21000.0    0.1308       478.68       MORTGAGE   \n",
       "2          321143  321143    20000.0    0.1240       448.95       MORTGAGE   \n",
       "3           11778   11778     3000.0    0.1240       100.22           RENT   \n",
       "4          169382  169382    30000.0    0.1612      1056.49       MORTGAGE   \n",
       "...           ...     ...        ...       ...          ...            ...   \n",
       "12175      354912  354912    19975.0    0.2565       801.09           RENT   \n",
       "12176      354944  354944    15000.0    0.1774       540.34           RENT   \n",
       "12177      354973  354973     3600.0    0.1862       131.28           RENT   \n",
       "12178      355002  355002    15000.0    0.0881       475.68       MORTGAGE   \n",
       "12179      355307  355307    15000.0    0.1774       540.34           RENT   \n",
       "\n",
       "       annual_inc verification_status pymnt_plan    dti  ...  pct_tl_nvr_dlq  \\\n",
       "0        223000.0        Not Verified          n  29.99  ...           100.0   \n",
       "1        123000.0     Source Verified          n  11.26  ...            85.0   \n",
       "2        197000.0     Source Verified          n  11.28  ...            85.7   \n",
       "3         45000.0        Not Verified          n  18.08  ...           100.0   \n",
       "4        133000.0     Source Verified          n  27.77  ...           100.0   \n",
       "...           ...                 ...        ...    ...  ...             ...   \n",
       "12175     28000.0        Not Verified          n  28.42  ...           100.0   \n",
       "12176     50000.0            Verified          n  23.43  ...            90.5   \n",
       "12177     60000.0        Not Verified          n  28.80  ...           100.0   \n",
       "12178     62000.0     Source Verified          n  11.44  ...           100.0   \n",
       "12179     54080.0        Not Verified          n  21.66  ...            90.0   \n",
       "\n",
       "       percent_bc_gt_75  pub_rec_bankruptcies  tax_liens  tot_hi_cred_lim  \\\n",
       "0                  50.0                   0.0        0.0         577150.0   \n",
       "1                  33.3                   0.0        0.0         132750.0   \n",
       "2                  33.3                   0.0        0.0         628160.0   \n",
       "3                  16.7                   1.0        0.0          42006.0   \n",
       "4                  66.7                   0.0        0.0         283248.0   \n",
       "...                 ...                   ...        ...              ...   \n",
       "12175              16.7                   0.0        0.0          50055.0   \n",
       "12176              11.1                   0.0        0.0          70324.0   \n",
       "12177               0.0                   0.0        0.0          83765.0   \n",
       "12178               0.0                   0.0        0.0         189930.0   \n",
       "12179             100.0                   0.0        0.0          48968.0   \n",
       "\n",
       "       total_bal_ex_mort total_bc_limit  total_il_high_credit_limit  \\\n",
       "0               122018.0        32000.0                    170200.0   \n",
       "1                27896.0        15900.0                     35398.0   \n",
       "2               114043.0        22600.0                     90340.0   \n",
       "3                20761.0        19900.0                     15406.0   \n",
       "4               109056.0        79500.0                     58778.0   \n",
       "...                  ...            ...                         ...   \n",
       "12175            28192.0        18700.0                     19055.0   \n",
       "12176            57025.0        13300.0                     54824.0   \n",
       "12177            55156.0        14800.0                     53065.0   \n",
       "12178            23748.0         7000.0                     32930.0   \n",
       "12179            29786.0         2900.0                     33968.0   \n",
       "\n",
       "       hardship_flag  debt_settlement_flag  \n",
       "0                  N                     N  \n",
       "1                  N                     N  \n",
       "2                  N                     N  \n",
       "3                  N                     N  \n",
       "4                  N                     N  \n",
       "...              ...                   ...  \n",
       "12175              N                     N  \n",
       "12176              N                     N  \n",
       "12177              N                     N  \n",
       "12178              N                     N  \n",
       "12179              N                     N  \n",
       "\n",
       "[12180 rows x 85 columns]"
      ]
     },
     "execution_count": 272,
     "metadata": {},
     "output_type": "execute_result"
    }
   ],
   "source": [
    "X_train = train_df.drop('loan_status', axis=1)\n",
    "X_train"
   ]
  },
  {
   "cell_type": "code",
   "execution_count": 273,
   "metadata": {},
   "outputs": [],
   "source": [
    "# check dropped row (next could should flag error)"
   ]
  },
  {
   "cell_type": "code",
   "execution_count": 276,
   "metadata": {
    "collapsed": true,
    "jupyter": {
     "outputs_hidden": true
    },
    "tags": []
   },
   "outputs": [
    {
     "ename": "ValueError",
     "evalue": "Can only compare identically-labeled DataFrame objects",
     "output_type": "error",
     "traceback": [
      "\u001b[0;31m---------------------------------------------------------------------------\u001b[0m",
      "\u001b[0;31mValueError\u001b[0m                                Traceback (most recent call last)",
      "\u001b[0;32m/var/folders/gy/wqk080g50kl7g0k_q5gvdy3h0000gn/T/ipykernel_52361/3809919212.py\u001b[0m in \u001b[0;36m<module>\u001b[0;34m\u001b[0m\n\u001b[0;32m----> 1\u001b[0;31m \u001b[0mX_train\u001b[0m\u001b[0;34m.\u001b[0m\u001b[0mcompare\u001b[0m\u001b[0;34m(\u001b[0m\u001b[0mother\u001b[0m\u001b[0;34m=\u001b[0m\u001b[0mtrain_df\u001b[0m\u001b[0;34m)\u001b[0m\u001b[0;34m\u001b[0m\u001b[0;34m\u001b[0m\u001b[0m\n\u001b[0m",
      "\u001b[0;32m~/opt/anaconda3/lib/python3.8/site-packages/pandas/core/frame.py\u001b[0m in \u001b[0;36mcompare\u001b[0;34m(self, other, align_axis, keep_shape, keep_equal)\u001b[0m\n\u001b[1;32m   7111\u001b[0m         \u001b[0mkeep_equal\u001b[0m\u001b[0;34m:\u001b[0m \u001b[0mbool\u001b[0m \u001b[0;34m=\u001b[0m \u001b[0;32mFalse\u001b[0m\u001b[0;34m,\u001b[0m\u001b[0;34m\u001b[0m\u001b[0;34m\u001b[0m\u001b[0m\n\u001b[1;32m   7112\u001b[0m     ) -> DataFrame:\n\u001b[0;32m-> 7113\u001b[0;31m         return super().compare(\n\u001b[0m\u001b[1;32m   7114\u001b[0m             \u001b[0mother\u001b[0m\u001b[0;34m=\u001b[0m\u001b[0mother\u001b[0m\u001b[0;34m,\u001b[0m\u001b[0;34m\u001b[0m\u001b[0;34m\u001b[0m\u001b[0m\n\u001b[1;32m   7115\u001b[0m             \u001b[0malign_axis\u001b[0m\u001b[0;34m=\u001b[0m\u001b[0malign_axis\u001b[0m\u001b[0;34m,\u001b[0m\u001b[0;34m\u001b[0m\u001b[0;34m\u001b[0m\u001b[0m\n",
      "\u001b[0;32m~/opt/anaconda3/lib/python3.8/site-packages/pandas/core/generic.py\u001b[0m in \u001b[0;36mcompare\u001b[0;34m(self, other, align_axis, keep_shape, keep_equal)\u001b[0m\n\u001b[1;32m   8422\u001b[0m             )\n\u001b[1;32m   8423\u001b[0m \u001b[0;34m\u001b[0m\u001b[0m\n\u001b[0;32m-> 8424\u001b[0;31m         \u001b[0mmask\u001b[0m \u001b[0;34m=\u001b[0m \u001b[0;34m~\u001b[0m\u001b[0;34m(\u001b[0m\u001b[0;34m(\u001b[0m\u001b[0mself\u001b[0m \u001b[0;34m==\u001b[0m \u001b[0mother\u001b[0m\u001b[0;34m)\u001b[0m \u001b[0;34m|\u001b[0m \u001b[0;34m(\u001b[0m\u001b[0mself\u001b[0m\u001b[0;34m.\u001b[0m\u001b[0misna\u001b[0m\u001b[0;34m(\u001b[0m\u001b[0;34m)\u001b[0m \u001b[0;34m&\u001b[0m \u001b[0mother\u001b[0m\u001b[0;34m.\u001b[0m\u001b[0misna\u001b[0m\u001b[0;34m(\u001b[0m\u001b[0;34m)\u001b[0m\u001b[0;34m)\u001b[0m\u001b[0;34m)\u001b[0m\u001b[0;34m\u001b[0m\u001b[0;34m\u001b[0m\u001b[0m\n\u001b[0m\u001b[1;32m   8425\u001b[0m         \u001b[0mkeys\u001b[0m \u001b[0;34m=\u001b[0m \u001b[0;34m[\u001b[0m\u001b[0;34m\"self\"\u001b[0m\u001b[0;34m,\u001b[0m \u001b[0;34m\"other\"\u001b[0m\u001b[0;34m]\u001b[0m\u001b[0;34m\u001b[0m\u001b[0;34m\u001b[0m\u001b[0m\n\u001b[1;32m   8426\u001b[0m \u001b[0;34m\u001b[0m\u001b[0m\n",
      "\u001b[0;32m~/opt/anaconda3/lib/python3.8/site-packages/pandas/core/ops/common.py\u001b[0m in \u001b[0;36mnew_method\u001b[0;34m(self, other)\u001b[0m\n\u001b[1;32m     67\u001b[0m         \u001b[0mother\u001b[0m \u001b[0;34m=\u001b[0m \u001b[0mitem_from_zerodim\u001b[0m\u001b[0;34m(\u001b[0m\u001b[0mother\u001b[0m\u001b[0;34m)\u001b[0m\u001b[0;34m\u001b[0m\u001b[0;34m\u001b[0m\u001b[0m\n\u001b[1;32m     68\u001b[0m \u001b[0;34m\u001b[0m\u001b[0m\n\u001b[0;32m---> 69\u001b[0;31m         \u001b[0;32mreturn\u001b[0m \u001b[0mmethod\u001b[0m\u001b[0;34m(\u001b[0m\u001b[0mself\u001b[0m\u001b[0;34m,\u001b[0m \u001b[0mother\u001b[0m\u001b[0;34m)\u001b[0m\u001b[0;34m\u001b[0m\u001b[0;34m\u001b[0m\u001b[0m\n\u001b[0m\u001b[1;32m     70\u001b[0m \u001b[0;34m\u001b[0m\u001b[0m\n\u001b[1;32m     71\u001b[0m     \u001b[0;32mreturn\u001b[0m \u001b[0mnew_method\u001b[0m\u001b[0;34m\u001b[0m\u001b[0;34m\u001b[0m\u001b[0m\n",
      "\u001b[0;32m~/opt/anaconda3/lib/python3.8/site-packages/pandas/core/arraylike.py\u001b[0m in \u001b[0;36m__eq__\u001b[0;34m(self, other)\u001b[0m\n\u001b[1;32m     30\u001b[0m     \u001b[0;34m@\u001b[0m\u001b[0munpack_zerodim_and_defer\u001b[0m\u001b[0;34m(\u001b[0m\u001b[0;34m\"__eq__\"\u001b[0m\u001b[0;34m)\u001b[0m\u001b[0;34m\u001b[0m\u001b[0;34m\u001b[0m\u001b[0m\n\u001b[1;32m     31\u001b[0m     \u001b[0;32mdef\u001b[0m \u001b[0m__eq__\u001b[0m\u001b[0;34m(\u001b[0m\u001b[0mself\u001b[0m\u001b[0;34m,\u001b[0m \u001b[0mother\u001b[0m\u001b[0;34m)\u001b[0m\u001b[0;34m:\u001b[0m\u001b[0;34m\u001b[0m\u001b[0;34m\u001b[0m\u001b[0m\n\u001b[0;32m---> 32\u001b[0;31m         \u001b[0;32mreturn\u001b[0m \u001b[0mself\u001b[0m\u001b[0;34m.\u001b[0m\u001b[0m_cmp_method\u001b[0m\u001b[0;34m(\u001b[0m\u001b[0mother\u001b[0m\u001b[0;34m,\u001b[0m \u001b[0moperator\u001b[0m\u001b[0;34m.\u001b[0m\u001b[0meq\u001b[0m\u001b[0;34m)\u001b[0m\u001b[0;34m\u001b[0m\u001b[0;34m\u001b[0m\u001b[0m\n\u001b[0m\u001b[1;32m     33\u001b[0m \u001b[0;34m\u001b[0m\u001b[0m\n\u001b[1;32m     34\u001b[0m     \u001b[0;34m@\u001b[0m\u001b[0munpack_zerodim_and_defer\u001b[0m\u001b[0;34m(\u001b[0m\u001b[0;34m\"__ne__\"\u001b[0m\u001b[0;34m)\u001b[0m\u001b[0;34m\u001b[0m\u001b[0;34m\u001b[0m\u001b[0m\n",
      "\u001b[0;32m~/opt/anaconda3/lib/python3.8/site-packages/pandas/core/frame.py\u001b[0m in \u001b[0;36m_cmp_method\u001b[0;34m(self, other, op)\u001b[0m\n\u001b[1;32m   6849\u001b[0m         \u001b[0maxis\u001b[0m \u001b[0;34m=\u001b[0m \u001b[0;36m1\u001b[0m  \u001b[0;31m# only relevant for Series other case\u001b[0m\u001b[0;34m\u001b[0m\u001b[0;34m\u001b[0m\u001b[0m\n\u001b[1;32m   6850\u001b[0m \u001b[0;34m\u001b[0m\u001b[0m\n\u001b[0;32m-> 6851\u001b[0;31m         \u001b[0mself\u001b[0m\u001b[0;34m,\u001b[0m \u001b[0mother\u001b[0m \u001b[0;34m=\u001b[0m \u001b[0mops\u001b[0m\u001b[0;34m.\u001b[0m\u001b[0malign_method_FRAME\u001b[0m\u001b[0;34m(\u001b[0m\u001b[0mself\u001b[0m\u001b[0;34m,\u001b[0m \u001b[0mother\u001b[0m\u001b[0;34m,\u001b[0m \u001b[0maxis\u001b[0m\u001b[0;34m,\u001b[0m \u001b[0mflex\u001b[0m\u001b[0;34m=\u001b[0m\u001b[0;32mFalse\u001b[0m\u001b[0;34m,\u001b[0m \u001b[0mlevel\u001b[0m\u001b[0;34m=\u001b[0m\u001b[0;32mNone\u001b[0m\u001b[0;34m)\u001b[0m\u001b[0;34m\u001b[0m\u001b[0;34m\u001b[0m\u001b[0m\n\u001b[0m\u001b[1;32m   6852\u001b[0m \u001b[0;34m\u001b[0m\u001b[0m\n\u001b[1;32m   6853\u001b[0m         \u001b[0;31m# See GH#4537 for discussion of scalar op behavior\u001b[0m\u001b[0;34m\u001b[0m\u001b[0;34m\u001b[0m\u001b[0;34m\u001b[0m\u001b[0m\n",
      "\u001b[0;32m~/opt/anaconda3/lib/python3.8/site-packages/pandas/core/ops/__init__.py\u001b[0m in \u001b[0;36malign_method_FRAME\u001b[0;34m(left, right, axis, flex, level)\u001b[0m\n\u001b[1;32m    286\u001b[0m                 \u001b[0mleft\u001b[0m\u001b[0;34m,\u001b[0m \u001b[0mright\u001b[0m \u001b[0;34m=\u001b[0m \u001b[0mleft\u001b[0m\u001b[0;34m.\u001b[0m\u001b[0malign\u001b[0m\u001b[0;34m(\u001b[0m\u001b[0mright\u001b[0m\u001b[0;34m,\u001b[0m \u001b[0mjoin\u001b[0m\u001b[0;34m=\u001b[0m\u001b[0;34m\"outer\"\u001b[0m\u001b[0;34m,\u001b[0m \u001b[0mlevel\u001b[0m\u001b[0;34m=\u001b[0m\u001b[0mlevel\u001b[0m\u001b[0;34m,\u001b[0m \u001b[0mcopy\u001b[0m\u001b[0;34m=\u001b[0m\u001b[0;32mFalse\u001b[0m\u001b[0;34m)\u001b[0m\u001b[0;34m\u001b[0m\u001b[0;34m\u001b[0m\u001b[0m\n\u001b[1;32m    287\u001b[0m             \u001b[0;32melse\u001b[0m\u001b[0;34m:\u001b[0m\u001b[0;34m\u001b[0m\u001b[0;34m\u001b[0m\u001b[0m\n\u001b[0;32m--> 288\u001b[0;31m                 raise ValueError(\n\u001b[0m\u001b[1;32m    289\u001b[0m                     \u001b[0;34m\"Can only compare identically-labeled DataFrame objects\"\u001b[0m\u001b[0;34m\u001b[0m\u001b[0;34m\u001b[0m\u001b[0m\n\u001b[1;32m    290\u001b[0m                 )\n",
      "\u001b[0;31mValueError\u001b[0m: Can only compare identically-labeled DataFrame objects"
     ]
    }
   ],
   "source": [
    "X_train.compare(other=train_df)"
   ]
  },
  {
   "cell_type": "code",
   "execution_count": 277,
   "metadata": {},
   "outputs": [],
   "source": [
    "# check row sum for comparison to post dummy encoding"
   ]
  },
  {
   "cell_type": "code",
   "execution_count": 278,
   "metadata": {},
   "outputs": [],
   "source": [
    "# 85 columns total"
   ]
  },
  {
   "cell_type": "code",
   "execution_count": 279,
   "metadata": {
    "scrolled": true,
    "tags": []
   },
   "outputs": [
    {
     "name": "stdout",
     "output_type": "stream",
     "text": [
      "<class 'pandas.core.frame.DataFrame'>\n",
      "RangeIndex: 12180 entries, 0 to 12179\n",
      "Data columns (total 85 columns):\n",
      " #   Column                      Non-Null Count  Dtype  \n",
      "---  ------                      --------------  -----  \n",
      " 0   Unnamed: 0                  12180 non-null  int64  \n",
      " 1   index                       12180 non-null  int64  \n",
      " 2   loan_amnt                   12180 non-null  float64\n",
      " 3   int_rate                    12180 non-null  float64\n",
      " 4   installment                 12180 non-null  float64\n",
      " 5   home_ownership              12180 non-null  object \n",
      " 6   annual_inc                  12180 non-null  float64\n",
      " 7   verification_status         12180 non-null  object \n",
      " 8   pymnt_plan                  12180 non-null  object \n",
      " 9   dti                         12180 non-null  float64\n",
      " 10  delinq_2yrs                 12180 non-null  float64\n",
      " 11  inq_last_6mths              12180 non-null  float64\n",
      " 12  open_acc                    12180 non-null  float64\n",
      " 13  pub_rec                     12180 non-null  float64\n",
      " 14  revol_bal                   12180 non-null  float64\n",
      " 15  total_acc                   12180 non-null  float64\n",
      " 16  initial_list_status         12180 non-null  object \n",
      " 17  out_prncp                   12180 non-null  float64\n",
      " 18  out_prncp_inv               12180 non-null  float64\n",
      " 19  total_pymnt                 12180 non-null  float64\n",
      " 20  total_pymnt_inv             12180 non-null  float64\n",
      " 21  total_rec_prncp             12180 non-null  float64\n",
      " 22  total_rec_int               12180 non-null  float64\n",
      " 23  total_rec_late_fee          12180 non-null  float64\n",
      " 24  recoveries                  12180 non-null  float64\n",
      " 25  collection_recovery_fee     12180 non-null  float64\n",
      " 26  last_pymnt_amnt             12180 non-null  float64\n",
      " 27  collections_12_mths_ex_med  12180 non-null  float64\n",
      " 28  policy_code                 12180 non-null  float64\n",
      " 29  application_type            12180 non-null  object \n",
      " 30  acc_now_delinq              12180 non-null  float64\n",
      " 31  tot_coll_amt                12180 non-null  float64\n",
      " 32  tot_cur_bal                 12180 non-null  float64\n",
      " 33  open_acc_6m                 12180 non-null  float64\n",
      " 34  open_act_il                 12180 non-null  float64\n",
      " 35  open_il_12m                 12180 non-null  float64\n",
      " 36  open_il_24m                 12180 non-null  float64\n",
      " 37  mths_since_rcnt_il          12180 non-null  float64\n",
      " 38  total_bal_il                12180 non-null  float64\n",
      " 39  il_util                     12180 non-null  float64\n",
      " 40  open_rv_12m                 12180 non-null  float64\n",
      " 41  open_rv_24m                 12180 non-null  float64\n",
      " 42  max_bal_bc                  12180 non-null  float64\n",
      " 43  all_util                    12180 non-null  float64\n",
      " 44  total_rev_hi_lim            12180 non-null  float64\n",
      " 45  inq_fi                      12180 non-null  float64\n",
      " 46  total_cu_tl                 12180 non-null  float64\n",
      " 47  inq_last_12m                12180 non-null  float64\n",
      " 48  acc_open_past_24mths        12180 non-null  float64\n",
      " 49  avg_cur_bal                 12180 non-null  float64\n",
      " 50  bc_open_to_buy              12180 non-null  float64\n",
      " 51  bc_util                     12180 non-null  float64\n",
      " 52  chargeoff_within_12_mths    12180 non-null  float64\n",
      " 53  delinq_amnt                 12180 non-null  float64\n",
      " 54  mo_sin_old_il_acct          12180 non-null  float64\n",
      " 55  mo_sin_old_rev_tl_op        12180 non-null  float64\n",
      " 56  mo_sin_rcnt_rev_tl_op       12180 non-null  float64\n",
      " 57  mo_sin_rcnt_tl              12180 non-null  float64\n",
      " 58  mort_acc                    12180 non-null  float64\n",
      " 59  mths_since_recent_bc        12180 non-null  float64\n",
      " 60  mths_since_recent_inq       12180 non-null  float64\n",
      " 61  num_accts_ever_120_pd       12180 non-null  float64\n",
      " 62  num_actv_bc_tl              12180 non-null  float64\n",
      " 63  num_actv_rev_tl             12180 non-null  float64\n",
      " 64  num_bc_sats                 12180 non-null  float64\n",
      " 65  num_bc_tl                   12180 non-null  float64\n",
      " 66  num_il_tl                   12180 non-null  float64\n",
      " 67  num_op_rev_tl               12180 non-null  float64\n",
      " 68  num_rev_accts               12180 non-null  float64\n",
      " 69  num_rev_tl_bal_gt_0         12180 non-null  float64\n",
      " 70  num_sats                    12180 non-null  float64\n",
      " 71  num_tl_120dpd_2m            12180 non-null  float64\n",
      " 72  num_tl_30dpd                12180 non-null  float64\n",
      " 73  num_tl_90g_dpd_24m          12180 non-null  float64\n",
      " 74  num_tl_op_past_12m          12180 non-null  float64\n",
      " 75  pct_tl_nvr_dlq              12180 non-null  float64\n",
      " 76  percent_bc_gt_75            12180 non-null  float64\n",
      " 77  pub_rec_bankruptcies        12180 non-null  float64\n",
      " 78  tax_liens                   12180 non-null  float64\n",
      " 79  tot_hi_cred_lim             12180 non-null  float64\n",
      " 80  total_bal_ex_mort           12180 non-null  float64\n",
      " 81  total_bc_limit              12180 non-null  float64\n",
      " 82  total_il_high_credit_limit  12180 non-null  float64\n",
      " 83  hardship_flag               12180 non-null  object \n",
      " 84  debt_settlement_flag        12180 non-null  object \n",
      "dtypes: float64(76), int64(2), object(7)\n",
      "memory usage: 7.9+ MB\n"
     ]
    }
   ],
   "source": [
    "X_train.info()"
   ]
  },
  {
   "cell_type": "code",
   "execution_count": 280,
   "metadata": {},
   "outputs": [],
   "source": [
    "# encoded category data into binary (boolean) for model improvement {pre processing}"
   ]
  },
  {
   "cell_type": "code",
   "execution_count": 281,
   "metadata": {},
   "outputs": [],
   "source": [
    "# 94 is new total after encoding category columns"
   ]
  },
  {
   "cell_type": "code",
   "execution_count": 282,
   "metadata": {
    "scrolled": true,
    "tags": []
   },
   "outputs": [
    {
     "name": "stdout",
     "output_type": "stream",
     "text": [
      "<class 'pandas.core.frame.DataFrame'>\n",
      "RangeIndex: 12180 entries, 0 to 12179\n",
      "Data columns (total 94 columns):\n",
      " #   Column                               Non-Null Count  Dtype  \n",
      "---  ------                               --------------  -----  \n",
      " 0   Unnamed: 0                           12180 non-null  int64  \n",
      " 1   index                                12180 non-null  int64  \n",
      " 2   loan_amnt                            12180 non-null  float64\n",
      " 3   int_rate                             12180 non-null  float64\n",
      " 4   installment                          12180 non-null  float64\n",
      " 5   annual_inc                           12180 non-null  float64\n",
      " 6   dti                                  12180 non-null  float64\n",
      " 7   delinq_2yrs                          12180 non-null  float64\n",
      " 8   inq_last_6mths                       12180 non-null  float64\n",
      " 9   open_acc                             12180 non-null  float64\n",
      " 10  pub_rec                              12180 non-null  float64\n",
      " 11  revol_bal                            12180 non-null  float64\n",
      " 12  total_acc                            12180 non-null  float64\n",
      " 13  out_prncp                            12180 non-null  float64\n",
      " 14  out_prncp_inv                        12180 non-null  float64\n",
      " 15  total_pymnt                          12180 non-null  float64\n",
      " 16  total_pymnt_inv                      12180 non-null  float64\n",
      " 17  total_rec_prncp                      12180 non-null  float64\n",
      " 18  total_rec_int                        12180 non-null  float64\n",
      " 19  total_rec_late_fee                   12180 non-null  float64\n",
      " 20  recoveries                           12180 non-null  float64\n",
      " 21  collection_recovery_fee              12180 non-null  float64\n",
      " 22  last_pymnt_amnt                      12180 non-null  float64\n",
      " 23  collections_12_mths_ex_med           12180 non-null  float64\n",
      " 24  policy_code                          12180 non-null  float64\n",
      " 25  acc_now_delinq                       12180 non-null  float64\n",
      " 26  tot_coll_amt                         12180 non-null  float64\n",
      " 27  tot_cur_bal                          12180 non-null  float64\n",
      " 28  open_acc_6m                          12180 non-null  float64\n",
      " 29  open_act_il                          12180 non-null  float64\n",
      " 30  open_il_12m                          12180 non-null  float64\n",
      " 31  open_il_24m                          12180 non-null  float64\n",
      " 32  mths_since_rcnt_il                   12180 non-null  float64\n",
      " 33  total_bal_il                         12180 non-null  float64\n",
      " 34  il_util                              12180 non-null  float64\n",
      " 35  open_rv_12m                          12180 non-null  float64\n",
      " 36  open_rv_24m                          12180 non-null  float64\n",
      " 37  max_bal_bc                           12180 non-null  float64\n",
      " 38  all_util                             12180 non-null  float64\n",
      " 39  total_rev_hi_lim                     12180 non-null  float64\n",
      " 40  inq_fi                               12180 non-null  float64\n",
      " 41  total_cu_tl                          12180 non-null  float64\n",
      " 42  inq_last_12m                         12180 non-null  float64\n",
      " 43  acc_open_past_24mths                 12180 non-null  float64\n",
      " 44  avg_cur_bal                          12180 non-null  float64\n",
      " 45  bc_open_to_buy                       12180 non-null  float64\n",
      " 46  bc_util                              12180 non-null  float64\n",
      " 47  chargeoff_within_12_mths             12180 non-null  float64\n",
      " 48  delinq_amnt                          12180 non-null  float64\n",
      " 49  mo_sin_old_il_acct                   12180 non-null  float64\n",
      " 50  mo_sin_old_rev_tl_op                 12180 non-null  float64\n",
      " 51  mo_sin_rcnt_rev_tl_op                12180 non-null  float64\n",
      " 52  mo_sin_rcnt_tl                       12180 non-null  float64\n",
      " 53  mort_acc                             12180 non-null  float64\n",
      " 54  mths_since_recent_bc                 12180 non-null  float64\n",
      " 55  mths_since_recent_inq                12180 non-null  float64\n",
      " 56  num_accts_ever_120_pd                12180 non-null  float64\n",
      " 57  num_actv_bc_tl                       12180 non-null  float64\n",
      " 58  num_actv_rev_tl                      12180 non-null  float64\n",
      " 59  num_bc_sats                          12180 non-null  float64\n",
      " 60  num_bc_tl                            12180 non-null  float64\n",
      " 61  num_il_tl                            12180 non-null  float64\n",
      " 62  num_op_rev_tl                        12180 non-null  float64\n",
      " 63  num_rev_accts                        12180 non-null  float64\n",
      " 64  num_rev_tl_bal_gt_0                  12180 non-null  float64\n",
      " 65  num_sats                             12180 non-null  float64\n",
      " 66  num_tl_120dpd_2m                     12180 non-null  float64\n",
      " 67  num_tl_30dpd                         12180 non-null  float64\n",
      " 68  num_tl_90g_dpd_24m                   12180 non-null  float64\n",
      " 69  num_tl_op_past_12m                   12180 non-null  float64\n",
      " 70  pct_tl_nvr_dlq                       12180 non-null  float64\n",
      " 71  percent_bc_gt_75                     12180 non-null  float64\n",
      " 72  pub_rec_bankruptcies                 12180 non-null  float64\n",
      " 73  tax_liens                            12180 non-null  float64\n",
      " 74  tot_hi_cred_lim                      12180 non-null  float64\n",
      " 75  total_bal_ex_mort                    12180 non-null  float64\n",
      " 76  total_bc_limit                       12180 non-null  float64\n",
      " 77  total_il_high_credit_limit           12180 non-null  float64\n",
      " 78  home_ownership_ANY                   12180 non-null  uint8  \n",
      " 79  home_ownership_MORTGAGE              12180 non-null  uint8  \n",
      " 80  home_ownership_OWN                   12180 non-null  uint8  \n",
      " 81  home_ownership_RENT                  12180 non-null  uint8  \n",
      " 82  verification_status_Not Verified     12180 non-null  uint8  \n",
      " 83  verification_status_Source Verified  12180 non-null  uint8  \n",
      " 84  verification_status_Verified         12180 non-null  uint8  \n",
      " 85  pymnt_plan_n                         12180 non-null  uint8  \n",
      " 86  initial_list_status_f                12180 non-null  uint8  \n",
      " 87  initial_list_status_w                12180 non-null  uint8  \n",
      " 88  application_type_Individual          12180 non-null  uint8  \n",
      " 89  application_type_Joint App           12180 non-null  uint8  \n",
      " 90  hardship_flag_N                      12180 non-null  uint8  \n",
      " 91  hardship_flag_Y                      12180 non-null  uint8  \n",
      " 92  debt_settlement_flag_N               12180 non-null  uint8  \n",
      " 93  debt_settlement_flag_Y               12180 non-null  uint8  \n",
      "dtypes: float64(76), int64(2), uint8(16)\n",
      "memory usage: 7.4 MB\n"
     ]
    }
   ],
   "source": [
    "# Convert categorical data to numeric and separate target feature for training data\n",
    "X_train = pd.get_dummies(X)\n",
    "X_train.info()"
   ]
  },
  {
   "cell_type": "code",
   "execution_count": 283,
   "metadata": {},
   "outputs": [],
   "source": [
    "# label encode loan status (high risk vs low risk) in target "
   ]
  },
  {
   "cell_type": "code",
   "execution_count": 322,
   "metadata": {
    "tags": []
   },
   "outputs": [
    {
     "data": {
      "text/plain": [
       "array([1, 1, 1, ..., 0, 0, 0])"
      ]
     },
     "execution_count": 322,
     "metadata": {},
     "output_type": "execute_result"
    }
   ],
   "source": [
    "y_train = LabelEncoder().fit_transform(train_df['loan_status'])\n",
    "y_train"
   ]
  },
  {
   "cell_type": "code",
   "execution_count": 313,
   "metadata": {
    "tags": []
   },
   "outputs": [],
   "source": [
    "# y_train = (train_df['loan_status'])\n",
    "# y_train"
   ]
  },
  {
   "cell_type": "code",
   "execution_count": 286,
   "metadata": {
    "tags": []
   },
   "outputs": [],
   "source": [
    "# Convert categorical data to numeric and separate target feature for testing data"
   ]
  },
  {
   "cell_type": "code",
   "execution_count": 287,
   "metadata": {
    "tags": []
   },
   "outputs": [
    {
     "data": {
      "text/html": [
       "<div>\n",
       "<style scoped>\n",
       "    .dataframe tbody tr th:only-of-type {\n",
       "        vertical-align: middle;\n",
       "    }\n",
       "\n",
       "    .dataframe tbody tr th {\n",
       "        vertical-align: top;\n",
       "    }\n",
       "\n",
       "    .dataframe thead th {\n",
       "        text-align: right;\n",
       "    }\n",
       "</style>\n",
       "<table border=\"1\" class=\"dataframe\">\n",
       "  <thead>\n",
       "    <tr style=\"text-align: right;\">\n",
       "      <th></th>\n",
       "      <th>Unnamed: 0</th>\n",
       "      <th>index</th>\n",
       "      <th>loan_amnt</th>\n",
       "      <th>int_rate</th>\n",
       "      <th>installment</th>\n",
       "      <th>home_ownership</th>\n",
       "      <th>annual_inc</th>\n",
       "      <th>verification_status</th>\n",
       "      <th>pymnt_plan</th>\n",
       "      <th>dti</th>\n",
       "      <th>...</th>\n",
       "      <th>pct_tl_nvr_dlq</th>\n",
       "      <th>percent_bc_gt_75</th>\n",
       "      <th>pub_rec_bankruptcies</th>\n",
       "      <th>tax_liens</th>\n",
       "      <th>tot_hi_cred_lim</th>\n",
       "      <th>total_bal_ex_mort</th>\n",
       "      <th>total_bc_limit</th>\n",
       "      <th>total_il_high_credit_limit</th>\n",
       "      <th>hardship_flag</th>\n",
       "      <th>debt_settlement_flag</th>\n",
       "    </tr>\n",
       "  </thead>\n",
       "  <tbody>\n",
       "    <tr>\n",
       "      <th>0</th>\n",
       "      <td>67991</td>\n",
       "      <td>67991</td>\n",
       "      <td>40000.0</td>\n",
       "      <td>0.0819</td>\n",
       "      <td>814.70</td>\n",
       "      <td>MORTGAGE</td>\n",
       "      <td>140000.0</td>\n",
       "      <td>Not Verified</td>\n",
       "      <td>n</td>\n",
       "      <td>19.75</td>\n",
       "      <td>...</td>\n",
       "      <td>97.7</td>\n",
       "      <td>0.0</td>\n",
       "      <td>0.0</td>\n",
       "      <td>0.0</td>\n",
       "      <td>527975.0</td>\n",
       "      <td>70914.0</td>\n",
       "      <td>74600.0</td>\n",
       "      <td>99475.0</td>\n",
       "      <td>N</td>\n",
       "      <td>N</td>\n",
       "    </tr>\n",
       "    <tr>\n",
       "      <th>1</th>\n",
       "      <td>25429</td>\n",
       "      <td>25429</td>\n",
       "      <td>6000.0</td>\n",
       "      <td>0.1524</td>\n",
       "      <td>208.70</td>\n",
       "      <td>RENT</td>\n",
       "      <td>55000.0</td>\n",
       "      <td>Not Verified</td>\n",
       "      <td>n</td>\n",
       "      <td>11.52</td>\n",
       "      <td>...</td>\n",
       "      <td>66.7</td>\n",
       "      <td>0.0</td>\n",
       "      <td>0.0</td>\n",
       "      <td>0.0</td>\n",
       "      <td>34628.0</td>\n",
       "      <td>23460.0</td>\n",
       "      <td>5900.0</td>\n",
       "      <td>23628.0</td>\n",
       "      <td>N</td>\n",
       "      <td>N</td>\n",
       "    </tr>\n",
       "    <tr>\n",
       "      <th>2</th>\n",
       "      <td>38496</td>\n",
       "      <td>38496</td>\n",
       "      <td>3600.0</td>\n",
       "      <td>0.1695</td>\n",
       "      <td>128.27</td>\n",
       "      <td>RENT</td>\n",
       "      <td>42000.0</td>\n",
       "      <td>Not Verified</td>\n",
       "      <td>n</td>\n",
       "      <td>6.74</td>\n",
       "      <td>...</td>\n",
       "      <td>100.0</td>\n",
       "      <td>0.0</td>\n",
       "      <td>0.0</td>\n",
       "      <td>0.0</td>\n",
       "      <td>23100.0</td>\n",
       "      <td>19183.0</td>\n",
       "      <td>7300.0</td>\n",
       "      <td>15000.0</td>\n",
       "      <td>N</td>\n",
       "      <td>N</td>\n",
       "    </tr>\n",
       "    <tr>\n",
       "      <th>3</th>\n",
       "      <td>19667</td>\n",
       "      <td>19667</td>\n",
       "      <td>20000.0</td>\n",
       "      <td>0.1524</td>\n",
       "      <td>478.33</td>\n",
       "      <td>RENT</td>\n",
       "      <td>100000.0</td>\n",
       "      <td>Not Verified</td>\n",
       "      <td>n</td>\n",
       "      <td>12.13</td>\n",
       "      <td>...</td>\n",
       "      <td>100.0</td>\n",
       "      <td>50.0</td>\n",
       "      <td>0.0</td>\n",
       "      <td>0.0</td>\n",
       "      <td>56481.0</td>\n",
       "      <td>43817.0</td>\n",
       "      <td>13800.0</td>\n",
       "      <td>35981.0</td>\n",
       "      <td>N</td>\n",
       "      <td>N</td>\n",
       "    </tr>\n",
       "    <tr>\n",
       "      <th>4</th>\n",
       "      <td>37505</td>\n",
       "      <td>37505</td>\n",
       "      <td>3600.0</td>\n",
       "      <td>0.1240</td>\n",
       "      <td>120.27</td>\n",
       "      <td>RENT</td>\n",
       "      <td>50000.0</td>\n",
       "      <td>Not Verified</td>\n",
       "      <td>n</td>\n",
       "      <td>16.08</td>\n",
       "      <td>...</td>\n",
       "      <td>100.0</td>\n",
       "      <td>25.0</td>\n",
       "      <td>0.0</td>\n",
       "      <td>0.0</td>\n",
       "      <td>45977.0</td>\n",
       "      <td>32448.0</td>\n",
       "      <td>21000.0</td>\n",
       "      <td>24977.0</td>\n",
       "      <td>N</td>\n",
       "      <td>N</td>\n",
       "    </tr>\n",
       "    <tr>\n",
       "      <th>...</th>\n",
       "      <td>...</td>\n",
       "      <td>...</td>\n",
       "      <td>...</td>\n",
       "      <td>...</td>\n",
       "      <td>...</td>\n",
       "      <td>...</td>\n",
       "      <td>...</td>\n",
       "      <td>...</td>\n",
       "      <td>...</td>\n",
       "      <td>...</td>\n",
       "      <td>...</td>\n",
       "      <td>...</td>\n",
       "      <td>...</td>\n",
       "      <td>...</td>\n",
       "      <td>...</td>\n",
       "      <td>...</td>\n",
       "      <td>...</td>\n",
       "      <td>...</td>\n",
       "      <td>...</td>\n",
       "      <td>...</td>\n",
       "      <td>...</td>\n",
       "    </tr>\n",
       "    <tr>\n",
       "      <th>4697</th>\n",
       "      <td>77282</td>\n",
       "      <td>77282</td>\n",
       "      <td>30000.0</td>\n",
       "      <td>0.1240</td>\n",
       "      <td>673.42</td>\n",
       "      <td>RENT</td>\n",
       "      <td>140480.0</td>\n",
       "      <td>Source Verified</td>\n",
       "      <td>n</td>\n",
       "      <td>15.74</td>\n",
       "      <td>...</td>\n",
       "      <td>100.0</td>\n",
       "      <td>28.6</td>\n",
       "      <td>0.0</td>\n",
       "      <td>0.0</td>\n",
       "      <td>159688.0</td>\n",
       "      <td>110873.0</td>\n",
       "      <td>48400.0</td>\n",
       "      <td>107388.0</td>\n",
       "      <td>N</td>\n",
       "      <td>N</td>\n",
       "    </tr>\n",
       "    <tr>\n",
       "      <th>4698</th>\n",
       "      <td>77291</td>\n",
       "      <td>77291</td>\n",
       "      <td>24000.0</td>\n",
       "      <td>0.0756</td>\n",
       "      <td>747.22</td>\n",
       "      <td>RENT</td>\n",
       "      <td>50000.0</td>\n",
       "      <td>Not Verified</td>\n",
       "      <td>n</td>\n",
       "      <td>26.81</td>\n",
       "      <td>...</td>\n",
       "      <td>100.0</td>\n",
       "      <td>0.0</td>\n",
       "      <td>0.0</td>\n",
       "      <td>0.0</td>\n",
       "      <td>62375.0</td>\n",
       "      <td>18928.0</td>\n",
       "      <td>13300.0</td>\n",
       "      <td>30775.0</td>\n",
       "      <td>N</td>\n",
       "      <td>N</td>\n",
       "    </tr>\n",
       "    <tr>\n",
       "      <th>4699</th>\n",
       "      <td>77292</td>\n",
       "      <td>77292</td>\n",
       "      <td>10000.0</td>\n",
       "      <td>0.2305</td>\n",
       "      <td>387.36</td>\n",
       "      <td>RENT</td>\n",
       "      <td>33000.0</td>\n",
       "      <td>Verified</td>\n",
       "      <td>n</td>\n",
       "      <td>38.51</td>\n",
       "      <td>...</td>\n",
       "      <td>100.0</td>\n",
       "      <td>0.0</td>\n",
       "      <td>0.0</td>\n",
       "      <td>0.0</td>\n",
       "      <td>43250.0</td>\n",
       "      <td>33022.0</td>\n",
       "      <td>8500.0</td>\n",
       "      <td>29550.0</td>\n",
       "      <td>N</td>\n",
       "      <td>N</td>\n",
       "    </tr>\n",
       "    <tr>\n",
       "      <th>4700</th>\n",
       "      <td>77297</td>\n",
       "      <td>77297</td>\n",
       "      <td>8000.0</td>\n",
       "      <td>0.1862</td>\n",
       "      <td>205.86</td>\n",
       "      <td>RENT</td>\n",
       "      <td>38000.0</td>\n",
       "      <td>Source Verified</td>\n",
       "      <td>n</td>\n",
       "      <td>16.36</td>\n",
       "      <td>...</td>\n",
       "      <td>95.0</td>\n",
       "      <td>0.0</td>\n",
       "      <td>1.0</td>\n",
       "      <td>0.0</td>\n",
       "      <td>31357.0</td>\n",
       "      <td>19595.0</td>\n",
       "      <td>1500.0</td>\n",
       "      <td>9657.0</td>\n",
       "      <td>N</td>\n",
       "      <td>N</td>\n",
       "    </tr>\n",
       "    <tr>\n",
       "      <th>4701</th>\n",
       "      <td>77304</td>\n",
       "      <td>77304</td>\n",
       "      <td>30000.0</td>\n",
       "      <td>0.2055</td>\n",
       "      <td>1123.34</td>\n",
       "      <td>RENT</td>\n",
       "      <td>180000.0</td>\n",
       "      <td>Source Verified</td>\n",
       "      <td>n</td>\n",
       "      <td>12.06</td>\n",
       "      <td>...</td>\n",
       "      <td>100.0</td>\n",
       "      <td>33.3</td>\n",
       "      <td>0.0</td>\n",
       "      <td>0.0</td>\n",
       "      <td>218686.0</td>\n",
       "      <td>209389.0</td>\n",
       "      <td>5600.0</td>\n",
       "      <td>209986.0</td>\n",
       "      <td>N</td>\n",
       "      <td>N</td>\n",
       "    </tr>\n",
       "  </tbody>\n",
       "</table>\n",
       "<p>4702 rows × 85 columns</p>\n",
       "</div>"
      ],
      "text/plain": [
       "      Unnamed: 0  index  loan_amnt  int_rate  installment home_ownership  \\\n",
       "0          67991  67991    40000.0    0.0819       814.70       MORTGAGE   \n",
       "1          25429  25429     6000.0    0.1524       208.70           RENT   \n",
       "2          38496  38496     3600.0    0.1695       128.27           RENT   \n",
       "3          19667  19667    20000.0    0.1524       478.33           RENT   \n",
       "4          37505  37505     3600.0    0.1240       120.27           RENT   \n",
       "...          ...    ...        ...       ...          ...            ...   \n",
       "4697       77282  77282    30000.0    0.1240       673.42           RENT   \n",
       "4698       77291  77291    24000.0    0.0756       747.22           RENT   \n",
       "4699       77292  77292    10000.0    0.2305       387.36           RENT   \n",
       "4700       77297  77297     8000.0    0.1862       205.86           RENT   \n",
       "4701       77304  77304    30000.0    0.2055      1123.34           RENT   \n",
       "\n",
       "      annual_inc verification_status pymnt_plan    dti  ...  pct_tl_nvr_dlq  \\\n",
       "0       140000.0        Not Verified          n  19.75  ...            97.7   \n",
       "1        55000.0        Not Verified          n  11.52  ...            66.7   \n",
       "2        42000.0        Not Verified          n   6.74  ...           100.0   \n",
       "3       100000.0        Not Verified          n  12.13  ...           100.0   \n",
       "4        50000.0        Not Verified          n  16.08  ...           100.0   \n",
       "...          ...                 ...        ...    ...  ...             ...   \n",
       "4697    140480.0     Source Verified          n  15.74  ...           100.0   \n",
       "4698     50000.0        Not Verified          n  26.81  ...           100.0   \n",
       "4699     33000.0            Verified          n  38.51  ...           100.0   \n",
       "4700     38000.0     Source Verified          n  16.36  ...            95.0   \n",
       "4701    180000.0     Source Verified          n  12.06  ...           100.0   \n",
       "\n",
       "      percent_bc_gt_75  pub_rec_bankruptcies  tax_liens  tot_hi_cred_lim  \\\n",
       "0                  0.0                   0.0        0.0         527975.0   \n",
       "1                  0.0                   0.0        0.0          34628.0   \n",
       "2                  0.0                   0.0        0.0          23100.0   \n",
       "3                 50.0                   0.0        0.0          56481.0   \n",
       "4                 25.0                   0.0        0.0          45977.0   \n",
       "...                ...                   ...        ...              ...   \n",
       "4697              28.6                   0.0        0.0         159688.0   \n",
       "4698               0.0                   0.0        0.0          62375.0   \n",
       "4699               0.0                   0.0        0.0          43250.0   \n",
       "4700               0.0                   1.0        0.0          31357.0   \n",
       "4701              33.3                   0.0        0.0         218686.0   \n",
       "\n",
       "      total_bal_ex_mort total_bc_limit  total_il_high_credit_limit  \\\n",
       "0               70914.0        74600.0                     99475.0   \n",
       "1               23460.0         5900.0                     23628.0   \n",
       "2               19183.0         7300.0                     15000.0   \n",
       "3               43817.0        13800.0                     35981.0   \n",
       "4               32448.0        21000.0                     24977.0   \n",
       "...                 ...            ...                         ...   \n",
       "4697           110873.0        48400.0                    107388.0   \n",
       "4698            18928.0        13300.0                     30775.0   \n",
       "4699            33022.0         8500.0                     29550.0   \n",
       "4700            19595.0         1500.0                      9657.0   \n",
       "4701           209389.0         5600.0                    209986.0   \n",
       "\n",
       "      hardship_flag  debt_settlement_flag  \n",
       "0                 N                     N  \n",
       "1                 N                     N  \n",
       "2                 N                     N  \n",
       "3                 N                     N  \n",
       "4                 N                     N  \n",
       "...             ...                   ...  \n",
       "4697              N                     N  \n",
       "4698              N                     N  \n",
       "4699              N                     N  \n",
       "4700              N                     N  \n",
       "4701              N                     N  \n",
       "\n",
       "[4702 rows x 85 columns]"
      ]
     },
     "execution_count": 287,
     "metadata": {},
     "output_type": "execute_result"
    }
   ],
   "source": [
    "X_test = test_df.drop('loan_status', axis=1)\n",
    "X_test"
   ]
  },
  {
   "cell_type": "code",
   "execution_count": 289,
   "metadata": {
    "scrolled": true,
    "tags": []
   },
   "outputs": [
    {
     "name": "stdout",
     "output_type": "stream",
     "text": [
      "<class 'pandas.core.frame.DataFrame'>\n",
      "RangeIndex: 4702 entries, 0 to 4701\n",
      "Data columns (total 93 columns):\n",
      " #   Column                               Non-Null Count  Dtype  \n",
      "---  ------                               --------------  -----  \n",
      " 0   Unnamed: 0                           4702 non-null   int64  \n",
      " 1   index                                4702 non-null   int64  \n",
      " 2   loan_amnt                            4702 non-null   float64\n",
      " 3   int_rate                             4702 non-null   float64\n",
      " 4   installment                          4702 non-null   float64\n",
      " 5   annual_inc                           4702 non-null   float64\n",
      " 6   dti                                  4702 non-null   float64\n",
      " 7   delinq_2yrs                          4702 non-null   float64\n",
      " 8   inq_last_6mths                       4702 non-null   float64\n",
      " 9   open_acc                             4702 non-null   float64\n",
      " 10  pub_rec                              4702 non-null   float64\n",
      " 11  revol_bal                            4702 non-null   float64\n",
      " 12  total_acc                            4702 non-null   float64\n",
      " 13  out_prncp                            4702 non-null   float64\n",
      " 14  out_prncp_inv                        4702 non-null   float64\n",
      " 15  total_pymnt                          4702 non-null   float64\n",
      " 16  total_pymnt_inv                      4702 non-null   float64\n",
      " 17  total_rec_prncp                      4702 non-null   float64\n",
      " 18  total_rec_int                        4702 non-null   float64\n",
      " 19  total_rec_late_fee                   4702 non-null   float64\n",
      " 20  recoveries                           4702 non-null   float64\n",
      " 21  collection_recovery_fee              4702 non-null   float64\n",
      " 22  last_pymnt_amnt                      4702 non-null   float64\n",
      " 23  collections_12_mths_ex_med           4702 non-null   float64\n",
      " 24  policy_code                          4702 non-null   float64\n",
      " 25  acc_now_delinq                       4702 non-null   float64\n",
      " 26  tot_coll_amt                         4702 non-null   float64\n",
      " 27  tot_cur_bal                          4702 non-null   float64\n",
      " 28  open_acc_6m                          4702 non-null   float64\n",
      " 29  open_act_il                          4702 non-null   float64\n",
      " 30  open_il_12m                          4702 non-null   float64\n",
      " 31  open_il_24m                          4702 non-null   float64\n",
      " 32  mths_since_rcnt_il                   4702 non-null   float64\n",
      " 33  total_bal_il                         4702 non-null   float64\n",
      " 34  il_util                              4702 non-null   float64\n",
      " 35  open_rv_12m                          4702 non-null   float64\n",
      " 36  open_rv_24m                          4702 non-null   float64\n",
      " 37  max_bal_bc                           4702 non-null   float64\n",
      " 38  all_util                             4702 non-null   float64\n",
      " 39  total_rev_hi_lim                     4702 non-null   float64\n",
      " 40  inq_fi                               4702 non-null   float64\n",
      " 41  total_cu_tl                          4702 non-null   float64\n",
      " 42  inq_last_12m                         4702 non-null   float64\n",
      " 43  acc_open_past_24mths                 4702 non-null   float64\n",
      " 44  avg_cur_bal                          4702 non-null   float64\n",
      " 45  bc_open_to_buy                       4702 non-null   float64\n",
      " 46  bc_util                              4702 non-null   float64\n",
      " 47  chargeoff_within_12_mths             4702 non-null   float64\n",
      " 48  delinq_amnt                          4702 non-null   float64\n",
      " 49  mo_sin_old_il_acct                   4702 non-null   float64\n",
      " 50  mo_sin_old_rev_tl_op                 4702 non-null   float64\n",
      " 51  mo_sin_rcnt_rev_tl_op                4702 non-null   float64\n",
      " 52  mo_sin_rcnt_tl                       4702 non-null   float64\n",
      " 53  mort_acc                             4702 non-null   float64\n",
      " 54  mths_since_recent_bc                 4702 non-null   float64\n",
      " 55  mths_since_recent_inq                4702 non-null   float64\n",
      " 56  num_accts_ever_120_pd                4702 non-null   float64\n",
      " 57  num_actv_bc_tl                       4702 non-null   float64\n",
      " 58  num_actv_rev_tl                      4702 non-null   float64\n",
      " 59  num_bc_sats                          4702 non-null   float64\n",
      " 60  num_bc_tl                            4702 non-null   float64\n",
      " 61  num_il_tl                            4702 non-null   float64\n",
      " 62  num_op_rev_tl                        4702 non-null   float64\n",
      " 63  num_rev_accts                        4702 non-null   float64\n",
      " 64  num_rev_tl_bal_gt_0                  4702 non-null   float64\n",
      " 65  num_sats                             4702 non-null   float64\n",
      " 66  num_tl_120dpd_2m                     4702 non-null   float64\n",
      " 67  num_tl_30dpd                         4702 non-null   float64\n",
      " 68  num_tl_90g_dpd_24m                   4702 non-null   float64\n",
      " 69  num_tl_op_past_12m                   4702 non-null   float64\n",
      " 70  pct_tl_nvr_dlq                       4702 non-null   float64\n",
      " 71  percent_bc_gt_75                     4702 non-null   float64\n",
      " 72  pub_rec_bankruptcies                 4702 non-null   float64\n",
      " 73  tax_liens                            4702 non-null   float64\n",
      " 74  tot_hi_cred_lim                      4702 non-null   float64\n",
      " 75  total_bal_ex_mort                    4702 non-null   float64\n",
      " 76  total_bc_limit                       4702 non-null   float64\n",
      " 77  total_il_high_credit_limit           4702 non-null   float64\n",
      " 78  home_ownership_ANY                   4702 non-null   uint8  \n",
      " 79  home_ownership_MORTGAGE              4702 non-null   uint8  \n",
      " 80  home_ownership_OWN                   4702 non-null   uint8  \n",
      " 81  home_ownership_RENT                  4702 non-null   uint8  \n",
      " 82  verification_status_Not Verified     4702 non-null   uint8  \n",
      " 83  verification_status_Source Verified  4702 non-null   uint8  \n",
      " 84  verification_status_Verified         4702 non-null   uint8  \n",
      " 85  pymnt_plan_n                         4702 non-null   uint8  \n",
      " 86  initial_list_status_f                4702 non-null   uint8  \n",
      " 87  initial_list_status_w                4702 non-null   uint8  \n",
      " 88  application_type_Individual          4702 non-null   uint8  \n",
      " 89  application_type_Joint App           4702 non-null   uint8  \n",
      " 90  hardship_flag_N                      4702 non-null   uint8  \n",
      " 91  hardship_flag_Y                      4702 non-null   uint8  \n",
      " 92  debt_settlement_flag_N               4702 non-null   uint8  \n",
      "dtypes: float64(76), int64(2), uint8(15)\n",
      "memory usage: 2.9 MB\n"
     ]
    }
   ],
   "source": [
    "# Convert categorical data to numeric and separate target feature for training data\n",
    "X_test = pd.get_dummies(X_test)\n",
    "X_test.info()"
   ]
  },
  {
   "cell_type": "code",
   "execution_count": 321,
   "metadata": {
    "tags": []
   },
   "outputs": [
    {
     "data": {
      "text/plain": [
       "array([1, 1, 1, ..., 0, 0, 0])"
      ]
     },
     "execution_count": 321,
     "metadata": {},
     "output_type": "execute_result"
    }
   ],
   "source": [
    "y_test = LabelEncoder().fit_transform(test_df['loan_status'])\n",
    "y_test"
   ]
  },
  {
   "cell_type": "code",
   "execution_count": 312,
   "metadata": {
    "tags": []
   },
   "outputs": [],
   "source": [
    "# y_test = test_df['loan_status']\n",
    "# y_test"
   ]
  },
  {
   "cell_type": "code",
   "execution_count": 293,
   "metadata": {
    "tags": []
   },
   "outputs": [],
   "source": [
    "# add missing dummy variables to testing set"
   ]
  },
  {
   "cell_type": "code",
   "execution_count": 294,
   "metadata": {},
   "outputs": [],
   "source": [
    "# noticed that total columns on test was 93 after encoding so missing 1 column from train data set!!??"
   ]
  },
  {
   "cell_type": "code",
   "execution_count": 295,
   "metadata": {
    "tags": []
   },
   "outputs": [],
   "source": [
    "dummy_variable = []\n",
    "dummy_variable2 = []\n",
    "\n",
    "for i in X_train.columns:\n",
    "    for j in X_test.columns:\n",
    "        if i != j:\n",
    "            dummy_variable.append(i)\n",
    "            dummy_variable2.append(j)\n",
    "\n",
    "dummy_variable = pd.DataFrame(dummy_variable)\n",
    "\n",
    "dummy_variable2 = pd.DataFrame(dummy_variable2)"
   ]
  },
  {
   "cell_type": "code",
   "execution_count": 296,
   "metadata": {
    "tags": []
   },
   "outputs": [
    {
     "data": {
      "text/plain": [
       "debt_settlement_flag_Y          93\n",
       "Unnamed: 0                      92\n",
       "pub_rec_bankruptcies            92\n",
       "policy_code                     92\n",
       "percent_bc_gt_75                92\n",
       "                                ..\n",
       "inq_last_6mths                  92\n",
       "inq_last_12m                    92\n",
       "inq_fi                          92\n",
       "initial_list_status_w           92\n",
       "verification_status_Verified    92\n",
       "Length: 94, dtype: int64"
      ]
     },
     "execution_count": 296,
     "metadata": {},
     "output_type": "execute_result"
    }
   ],
   "source": [
    "dummy_variable.value_counts()"
   ]
  },
  {
   "cell_type": "code",
   "execution_count": 297,
   "metadata": {
    "tags": []
   },
   "outputs": [
    {
     "data": {
      "text/plain": [
       "Unnamed: 0                      93\n",
       "open_act_il                     93\n",
       "policy_code                     93\n",
       "percent_bc_gt_75                93\n",
       "pct_tl_nvr_dlq                  93\n",
       "                                ..\n",
       "inq_last_6mths                  93\n",
       "inq_last_12m                    93\n",
       "inq_fi                          93\n",
       "initial_list_status_w           93\n",
       "verification_status_Verified    93\n",
       "Length: 93, dtype: int64"
      ]
     },
     "execution_count": 297,
     "metadata": {},
     "output_type": "execute_result"
    }
   ],
   "source": [
    "dummy_variable2.value_counts()"
   ]
  },
  {
   "cell_type": "code",
   "execution_count": 298,
   "metadata": {},
   "outputs": [],
   "source": [
    "# looks like debt_settle...... was the culprit (see first line in dummy_variable.value_counts output)"
   ]
  },
  {
   "cell_type": "code",
   "execution_count": 300,
   "metadata": {},
   "outputs": [],
   "source": [
    "# adding column to test set to avoid hiccups with model. input new column with all values at 0"
   ]
  },
  {
   "cell_type": "code",
   "execution_count": 301,
   "metadata": {
    "tags": []
   },
   "outputs": [],
   "source": [
    "# X_train['debt_settlement_flag_Y']\n",
    "X_test['debt_settlement_flag_Y'] = 0"
   ]
  },
  {
   "cell_type": "code",
   "execution_count": 302,
   "metadata": {
    "tags": []
   },
   "outputs": [],
   "source": [
    "from sklearn.metrics import accuracy_score, precision_score, recall_score, confusion_matrix, precision_recall_curve\n",
    "from sklearn.preprocessing import RobustScaler"
   ]
  },
  {
   "cell_type": "code",
   "execution_count": 334,
   "metadata": {
    "tags": []
   },
   "outputs": [],
   "source": [
    "def CMatrix(CM, labels = ['low', 'HIGH']):\n",
    "    df = pd.DataFrame(data=CM, index=labels, columns=labels)\n",
    "    df.index.name='Actual'\n",
    "    df.columns.name='Prediction'\n",
    "    df.loc['Total'] = df.sum()\n",
    "    df['Total'] = df.sum(axis=1)\n",
    "    return df\n",
    "    "
   ]
  },
  {
   "cell_type": "code",
   "execution_count": 335,
   "metadata": {
    "tags": []
   },
   "outputs": [],
   "source": [
    "metrics = pd.DataFrame(index=['accuracy', 'precision', 'recall'],columns=['NULL', 'LogisticReg', 'RandomForest'])"
   ]
  },
  {
   "cell_type": "markdown",
   "metadata": {
    "tags": []
   },
   "source": [
    "# Metrics\n",
    "---\n",
    "* Accuracy: the proportion of the total number of predictions that are correct\n",
    "* Precision: the proportion of positive predictions that are actually correct\n",
    "* Recall: the proportion of total positives predicted\n",
    "---\n",
    "* Accuracy: Overall how often the model predicts correctly HIGH_RISK vs. low_risk\n",
    "* Precision: how often the model predicts an ouput as correct (True Positives / True Positives + False Positives)\n",
    "* Recall: total predictions given as correct (True Positives / True Positives + False Negatives)\n",
    "---\n",
    "* False Positive = A person that will be predicted as HIGH_RISK but is actually low_risk (eh..)\n",
    "* False Negative = A person that will be predicted as low_risk but is actually HIGH_RISK (very bad!!!)"
   ]
  },
  {
   "cell_type": "code",
   "execution_count": 336,
   "metadata": {
    "tags": []
   },
   "outputs": [],
   "source": [
    "import numpy as np"
   ]
  },
  {
   "cell_type": "code",
   "execution_count": 337,
   "metadata": {
    "tags": []
   },
   "outputs": [],
   "source": [
    "y_train = pd.DataFrame(y_train)"
   ]
  },
  {
   "cell_type": "code",
   "execution_count": 338,
   "metadata": {
    "tags": []
   },
   "outputs": [
    {
     "data": {
      "text/html": [
       "<div>\n",
       "<style scoped>\n",
       "    .dataframe tbody tr th:only-of-type {\n",
       "        vertical-align: middle;\n",
       "    }\n",
       "\n",
       "    .dataframe tbody tr th {\n",
       "        vertical-align: top;\n",
       "    }\n",
       "\n",
       "    .dataframe thead th {\n",
       "        text-align: right;\n",
       "    }\n",
       "</style>\n",
       "<table border=\"1\" class=\"dataframe\">\n",
       "  <thead>\n",
       "    <tr style=\"text-align: right;\">\n",
       "      <th>Prediction</th>\n",
       "      <th>low</th>\n",
       "      <th>HIGH</th>\n",
       "      <th>Total</th>\n",
       "    </tr>\n",
       "    <tr>\n",
       "      <th>Actual</th>\n",
       "      <th></th>\n",
       "      <th></th>\n",
       "      <th></th>\n",
       "    </tr>\n",
       "  </thead>\n",
       "  <tbody>\n",
       "    <tr>\n",
       "      <th>low</th>\n",
       "      <td>2351</td>\n",
       "      <td>0</td>\n",
       "      <td>2351</td>\n",
       "    </tr>\n",
       "    <tr>\n",
       "      <th>HIGH</th>\n",
       "      <td>2351</td>\n",
       "      <td>0</td>\n",
       "      <td>2351</td>\n",
       "    </tr>\n",
       "    <tr>\n",
       "      <th>Total</th>\n",
       "      <td>4702</td>\n",
       "      <td>0</td>\n",
       "      <td>4702</td>\n",
       "    </tr>\n",
       "  </tbody>\n",
       "</table>\n",
       "</div>"
      ],
      "text/plain": [
       "Prediction   low  HIGH  Total\n",
       "Actual                       \n",
       "low         2351     0   2351\n",
       "HIGH        2351     0   2351\n",
       "Total       4702     0   4702"
      ]
     },
     "execution_count": 338,
     "metadata": {},
     "output_type": "execute_result"
    }
   ],
   "source": [
    "y_pred_test = pd.np.repeat(y_train.value_counts().idxmax(), y_test.size)\n",
    "metrics.loc['accuracy', 'NULL'] = accuracy_score(y_pred = y_pred_test, y_true = y_test)\n",
    "metrics.loc['precision', 'NULL'] = precision_score(y_pred = y_pred_test, y_true = y_test)\n",
    "metrics.loc['recall', 'NULL'] = recall_score(y_pred = y_pred_test, y_true = y_test)\n",
    "\n",
    "CM = confusion_matrix(y_pred=y_pred_test, y_true=y_test)\n",
    "CMatrix(CM)"
   ]
  },
  {
   "cell_type": "markdown",
   "metadata": {},
   "source": [
    "# Pre-scale Prediction\n",
    "\n",
    "---\n",
    "\n",
    "* I'm pretty sure that the models will not perform as well as they will with scaled data.\n",
    "* Mainly because the numerical scales of the integer data is vary far apart and concentrated in those distances"
   ]
  },
  {
   "cell_type": "code",
   "execution_count": 339,
   "metadata": {
    "tags": []
   },
   "outputs": [
    {
     "data": {
      "text/html": [
       "<div>\n",
       "<style scoped>\n",
       "    .dataframe tbody tr th:only-of-type {\n",
       "        vertical-align: middle;\n",
       "    }\n",
       "\n",
       "    .dataframe tbody tr th {\n",
       "        vertical-align: top;\n",
       "    }\n",
       "\n",
       "    .dataframe thead th {\n",
       "        text-align: right;\n",
       "    }\n",
       "</style>\n",
       "<table border=\"1\" class=\"dataframe\">\n",
       "  <thead>\n",
       "    <tr style=\"text-align: right;\">\n",
       "      <th>Prediction</th>\n",
       "      <th>low</th>\n",
       "      <th>HIGH</th>\n",
       "      <th>Total</th>\n",
       "    </tr>\n",
       "    <tr>\n",
       "      <th>Actual</th>\n",
       "      <th></th>\n",
       "      <th></th>\n",
       "      <th></th>\n",
       "    </tr>\n",
       "  </thead>\n",
       "  <tbody>\n",
       "    <tr>\n",
       "      <th>low</th>\n",
       "      <td>526</td>\n",
       "      <td>1825</td>\n",
       "      <td>2351</td>\n",
       "    </tr>\n",
       "    <tr>\n",
       "      <th>HIGH</th>\n",
       "      <td>408</td>\n",
       "      <td>1943</td>\n",
       "      <td>2351</td>\n",
       "    </tr>\n",
       "    <tr>\n",
       "      <th>Total</th>\n",
       "      <td>934</td>\n",
       "      <td>3768</td>\n",
       "      <td>4702</td>\n",
       "    </tr>\n",
       "  </tbody>\n",
       "</table>\n",
       "</div>"
      ],
      "text/plain": [
       "Prediction  low  HIGH  Total\n",
       "Actual                      \n",
       "low         526  1825   2351\n",
       "HIGH        408  1943   2351\n",
       "Total       934  3768   4702"
      ]
     },
     "execution_count": 339,
     "metadata": {},
     "output_type": "execute_result"
    }
   ],
   "source": [
    "# Train the Logistic Regression model on the unscaled data and print the model score\n",
    "from sklearn.linear_model import LogisticRegression\n",
    "logistic_regression = LogisticRegression(n_jobs=-1, random_state=15)\n",
    "logistic_regression.fit(X_train,y_train)\n",
    "\n",
    "y_pred_test = logistic_regression.predict(X_test)\n",
    "\n",
    "metrics.loc['accuracy', 'LogisticReg'] = accuracy_score(y_pred = y_pred_test, y_true = y_test)\n",
    "metrics.loc['precision', 'LogisticReg'] = precision_score(y_pred = y_pred_test, y_true = y_test)\n",
    "metrics.loc['recall', 'LogisticReg'] = recall_score(y_pred = y_pred_test, y_true = y_test)\n",
    "\n",
    "CM = confusion_matrix(y_pred=y_pred_test, y_true=y_test)\n",
    "CMatrix(CM)"
   ]
  },
  {
   "cell_type": "code",
   "execution_count": 340,
   "metadata": {
    "tags": []
   },
   "outputs": [],
   "source": [
    "# Train a Random Forest Classifier model and print the model score"
   ]
  },
  {
   "cell_type": "code",
   "execution_count": 341,
   "metadata": {},
   "outputs": [],
   "source": [
    "# Import a Random Forests classifier\n",
    "from sklearn.ensemble import RandomForestClassifier"
   ]
  },
  {
   "cell_type": "code",
   "execution_count": 342,
   "metadata": {
    "tags": []
   },
   "outputs": [
    {
     "data": {
      "text/html": [
       "<div>\n",
       "<style scoped>\n",
       "    .dataframe tbody tr th:only-of-type {\n",
       "        vertical-align: middle;\n",
       "    }\n",
       "\n",
       "    .dataframe tbody tr th {\n",
       "        vertical-align: top;\n",
       "    }\n",
       "\n",
       "    .dataframe thead th {\n",
       "        text-align: right;\n",
       "    }\n",
       "</style>\n",
       "<table border=\"1\" class=\"dataframe\">\n",
       "  <thead>\n",
       "    <tr style=\"text-align: right;\">\n",
       "      <th>Prediction</th>\n",
       "      <th>low</th>\n",
       "      <th>HIGH</th>\n",
       "      <th>Total</th>\n",
       "    </tr>\n",
       "    <tr>\n",
       "      <th>Actual</th>\n",
       "      <th></th>\n",
       "      <th></th>\n",
       "      <th></th>\n",
       "    </tr>\n",
       "  </thead>\n",
       "  <tbody>\n",
       "    <tr>\n",
       "      <th>low</th>\n",
       "      <td>661</td>\n",
       "      <td>1690</td>\n",
       "      <td>2351</td>\n",
       "    </tr>\n",
       "    <tr>\n",
       "      <th>HIGH</th>\n",
       "      <td>196</td>\n",
       "      <td>2155</td>\n",
       "      <td>2351</td>\n",
       "    </tr>\n",
       "    <tr>\n",
       "      <th>Total</th>\n",
       "      <td>857</td>\n",
       "      <td>3845</td>\n",
       "      <td>4702</td>\n",
       "    </tr>\n",
       "  </tbody>\n",
       "</table>\n",
       "</div>"
      ],
      "text/plain": [
       "Prediction  low  HIGH  Total\n",
       "Actual                      \n",
       "low         661  1690   2351\n",
       "HIGH        196  2155   2351\n",
       "Total       857  3845   4702"
      ]
     },
     "execution_count": 342,
     "metadata": {},
     "output_type": "execute_result"
    }
   ],
   "source": [
    "class_tree = RandomForestClassifier(min_samples_split=30, min_samples_leaf=10, random_state=10)\n",
    "\n",
    "class_tree.fit(X_train, y_train)\n",
    "\n",
    "y_pred_test = class_tree.predict(X_test)\n",
    "metrics.loc['accuracy', 'RandomForest'] = accuracy_score(y_pred = y_pred_test, y_true = y_test)\n",
    "metrics.loc['precision', 'RandomForest'] = precision_score(y_pred = y_pred_test, y_true = y_test)\n",
    "metrics.loc['recall', 'RandomForest'] = recall_score(y_pred = y_pred_test, y_true = y_test)\n",
    "\n",
    "CM = confusion_matrix(y_pred=y_pred_test, y_true=y_test)\n",
    "CMatrix(CM)"
   ]
  },
  {
   "cell_type": "code",
   "execution_count": 343,
   "metadata": {
    "tags": []
   },
   "outputs": [],
   "source": [
    "import matplotlib.pyplot as plt\n",
    "%matplotlib inline"
   ]
  },
  {
   "cell_type": "code",
   "execution_count": 344,
   "metadata": {
    "tags": []
   },
   "outputs": [
    {
     "data": {
      "image/png": "[encoded data removed]",
      "text/plain": [
       "<Figure size 576x360 with 1 Axes>"
      ]
     },
     "metadata": {
      "needs_background": "light"
     },
     "output_type": "display_data"
    }
   ],
   "source": [
    "fig, ax = plt.subplots(figsize=(8,5))\n",
    "metrics.plot(kind='barh', ax=ax)\n",
    "ax.grid();"
   ]
  },
  {
   "cell_type": "code",
   "execution_count": 345,
   "metadata": {},
   "outputs": [],
   "source": [
    "# RandomForest leading by a high margin. lets see how it does after scaling"
   ]
  },
  {
   "cell_type": "code",
   "execution_count": 346,
   "metadata": {
    "tags": []
   },
   "outputs": [],
   "source": [
    "# Scale the data"
   ]
  },
  {
   "cell_type": "code",
   "execution_count": 347,
   "metadata": {
    "tags": []
   },
   "outputs": [
    {
     "data": {
      "text/plain": [
       "array([[-0.78097654, -0.78097654, -0.10833333, ...,  0.        ,\n",
       "         0.        ,  0.        ],\n",
       "       [-0.28578642, -0.28578642,  0.4       , ...,  0.        ,\n",
       "         0.        ,  0.        ],\n",
       "       [ 0.76919916,  0.76919916,  0.33333333, ...,  0.        ,\n",
       "         0.        ,  0.        ],\n",
       "       ...,\n",
       "       [ 0.96781769,  0.96781769, -0.76      , ...,  0.        ,\n",
       "         0.        ,  0.        ],\n",
       "       [ 0.96798795,  0.96798795,  0.        , ...,  0.        ,\n",
       "         0.        ,  0.        ],\n",
       "       [ 0.96977863,  0.96977863,  0.        , ...,  0.        ,\n",
       "         0.        ,  0.        ]])"
      ]
     },
     "execution_count": 347,
     "metadata": {},
     "output_type": "execute_result"
    }
   ],
   "source": [
    "scaler = RobustScaler().fit(X_train)\n",
    "X_train_scaled = scaler.transform(X_train)\n",
    "X_train_scaled"
   ]
  },
  {
   "cell_type": "code",
   "execution_count": 348,
   "metadata": {
    "tags": []
   },
   "outputs": [
    {
     "data": {
      "text/plain": [
       "array([[ 0.69460717,  0.69460717,  1.72562554, ...,  0.        ,\n",
       "         0.        ,  0.        ],\n",
       "       [-0.44393173, -0.44393173, -0.62122519, ...,  0.        ,\n",
       "         0.        ,  0.        ],\n",
       "       [-0.09438782, -0.09438782, -0.78688525, ...,  0.        ,\n",
       "         0.        ,  0.        ],\n",
       "       ...,\n",
       "       [ 0.94341011,  0.94341011, -0.34512511, ...,  0.        ,\n",
       "         0.        ,  0.        ],\n",
       "       [ 0.94354386,  0.94354386, -0.48317515, ...,  0.        ,\n",
       "         0.        ,  0.        ],\n",
       "       [ 0.94373111,  0.94373111,  1.03537532, ...,  0.        ,\n",
       "         0.        ,  0.        ]])"
      ]
     },
     "execution_count": 348,
     "metadata": {},
     "output_type": "execute_result"
    }
   ],
   "source": [
    "scaler = RobustScaler().fit(X_test)\n",
    "X_test_scaled = scaler.transform(X_test)\n",
    "X_test_scaled"
   ]
  },
  {
   "cell_type": "code",
   "execution_count": 349,
   "metadata": {
    "tags": []
   },
   "outputs": [],
   "source": [
    "# Train the Logistic Regression model on the scaled data and print the model score"
   ]
  },
  {
   "cell_type": "code",
   "execution_count": null,
   "metadata": {
    "jupyter": {
     "source_hidden": true
    },
    "tags": []
   },
   "outputs": [],
   "source": [
    "metrics2 = pd.DataFrame(index=['accuracy', 'precision', 'recall'],columns=['NULL', 'LogisticRegScaled', 'RandomForrestScaled'])"
   ]
  },
  {
   "cell_type": "code",
   "execution_count": 351,
   "metadata": {
    "tags": []
   },
   "outputs": [
    {
     "data": {
      "text/html": [
       "<div>\n",
       "<style scoped>\n",
       "    .dataframe tbody tr th:only-of-type {\n",
       "        vertical-align: middle;\n",
       "    }\n",
       "\n",
       "    .dataframe tbody tr th {\n",
       "        vertical-align: top;\n",
       "    }\n",
       "\n",
       "    .dataframe thead th {\n",
       "        text-align: right;\n",
       "    }\n",
       "</style>\n",
       "<table border=\"1\" class=\"dataframe\">\n",
       "  <thead>\n",
       "    <tr style=\"text-align: right;\">\n",
       "      <th>Prediction</th>\n",
       "      <th>low</th>\n",
       "      <th>HIGH</th>\n",
       "      <th>Total</th>\n",
       "    </tr>\n",
       "    <tr>\n",
       "      <th>Actual</th>\n",
       "      <th></th>\n",
       "      <th></th>\n",
       "      <th></th>\n",
       "    </tr>\n",
       "  </thead>\n",
       "  <tbody>\n",
       "    <tr>\n",
       "      <th>low</th>\n",
       "      <td>1497</td>\n",
       "      <td>854</td>\n",
       "      <td>2351</td>\n",
       "    </tr>\n",
       "    <tr>\n",
       "      <th>HIGH</th>\n",
       "      <td>809</td>\n",
       "      <td>1542</td>\n",
       "      <td>2351</td>\n",
       "    </tr>\n",
       "    <tr>\n",
       "      <th>Total</th>\n",
       "      <td>2306</td>\n",
       "      <td>2396</td>\n",
       "      <td>4702</td>\n",
       "    </tr>\n",
       "  </tbody>\n",
       "</table>\n",
       "</div>"
      ],
      "text/plain": [
       "Prediction   low  HIGH  Total\n",
       "Actual                       \n",
       "low         1497   854   2351\n",
       "HIGH         809  1542   2351\n",
       "Total       2306  2396   4702"
      ]
     },
     "execution_count": 351,
     "metadata": {},
     "output_type": "execute_result"
    }
   ],
   "source": [
    "logistic_regression = LogisticRegression(n_jobs=-1, random_state=15)\n",
    "logistic_regression.fit(X_train_scaled,y_train)\n",
    "\n",
    "y_pred_test = logistic_regression.predict(X_test_scaled)\n",
    "\n",
    "metrics.loc['accuracy', 'LogisticReg'] = accuracy_score(y_pred = y_pred_test, y_true = y_test)\n",
    "metrics.loc['precision', 'LogisticReg'] = precision_score(y_pred = y_pred_test, y_true = y_test)\n",
    "metrics.loc['recall', 'LogisticReg'] = recall_score(y_pred = y_pred_test, y_true = y_test)\n",
    "\n",
    "CM = confusion_matrix(y_pred=y_pred_test, y_true=y_test)\n",
    "CMatrix(CM)"
   ]
  },
  {
   "cell_type": "code",
   "execution_count": 340,
   "metadata": {
    "tags": []
   },
   "outputs": [],
   "source": [
    "# Train a Random Forest Classifier model and print the model score"
   ]
  },
  {
   "cell_type": "code",
   "execution_count": 352,
   "metadata": {
    "tags": []
   },
   "outputs": [
    {
     "data": {
      "text/html": [
       "<div>\n",
       "<style scoped>\n",
       "    .dataframe tbody tr th:only-of-type {\n",
       "        vertical-align: middle;\n",
       "    }\n",
       "\n",
       "    .dataframe tbody tr th {\n",
       "        vertical-align: top;\n",
       "    }\n",
       "\n",
       "    .dataframe thead th {\n",
       "        text-align: right;\n",
       "    }\n",
       "</style>\n",
       "<table border=\"1\" class=\"dataframe\">\n",
       "  <thead>\n",
       "    <tr style=\"text-align: right;\">\n",
       "      <th>Prediction</th>\n",
       "      <th>low</th>\n",
       "      <th>HIGH</th>\n",
       "      <th>Total</th>\n",
       "    </tr>\n",
       "    <tr>\n",
       "      <th>Actual</th>\n",
       "      <th></th>\n",
       "      <th></th>\n",
       "      <th></th>\n",
       "    </tr>\n",
       "  </thead>\n",
       "  <tbody>\n",
       "    <tr>\n",
       "      <th>low</th>\n",
       "      <td>1734</td>\n",
       "      <td>617</td>\n",
       "      <td>2351</td>\n",
       "    </tr>\n",
       "    <tr>\n",
       "      <th>HIGH</th>\n",
       "      <td>656</td>\n",
       "      <td>1695</td>\n",
       "      <td>2351</td>\n",
       "    </tr>\n",
       "    <tr>\n",
       "      <th>Total</th>\n",
       "      <td>2390</td>\n",
       "      <td>2312</td>\n",
       "      <td>4702</td>\n",
       "    </tr>\n",
       "  </tbody>\n",
       "</table>\n",
       "</div>"
      ],
      "text/plain": [
       "Prediction   low  HIGH  Total\n",
       "Actual                       \n",
       "low         1734   617   2351\n",
       "HIGH         656  1695   2351\n",
       "Total       2390  2312   4702"
      ]
     },
     "execution_count": 352,
     "metadata": {},
     "output_type": "execute_result"
    }
   ],
   "source": [
    "class_tree = RandomForestClassifier(min_samples_split=30, min_samples_leaf=10, random_state=10)\n",
    "\n",
    "class_tree.fit(X_train_scaled, y_train)\n",
    "\n",
    "y_pred_test = class_tree.predict(X_test_scaled)\n",
    "metrics.loc['accuracy', 'RandomForest'] = accuracy_score(y_pred = y_pred_test, y_true = y_test)\n",
    "metrics.loc['precision', 'RandomForest'] = precision_score(y_pred = y_pred_test, y_true = y_test)\n",
    "metrics.loc['recall', 'RandomForest'] = recall_score(y_pred = y_pred_test, y_true = y_test)\n",
    "\n",
    "CM = confusion_matrix(y_pred=y_pred_test, y_true=y_test)\n",
    "CMatrix(CM)"
   ]
  },
  {
   "cell_type": "code",
   "execution_count": 353,
   "metadata": {
    "tags": []
   },
   "outputs": [
    {
     "data": {
      "image/png": "[encoded data removed]",
      "text/plain": [
       "<Figure size 576x360 with 1 Axes>"
      ]
     },
     "metadata": {
      "needs_background": "light"
     },
     "output_type": "display_data"
    }
   ],
   "source": [
    "fig, ax = plt.subplots(figsize=(8,5))\n",
    "metrics.plot(kind='barh', ax=ax)\n",
    "ax.grid();"
   ]
  },
  {
   "cell_type": "code",
   "execution_count": 354,
   "metadata": {},
   "outputs": [],
   "source": [
    "# crazy improvements for both models after scaling the data more true negatives and true positives on both models"
   ]
  },
  {
   "cell_type": "code",
   "execution_count": 355,
   "metadata": {},
   "outputs": [],
   "source": [
    "# random forest still wins by a landslide though"
   ]
  },
  {
   "cell_type": "code",
   "execution_count": null,
   "metadata": {},
   "outputs": [],
   "source": []
  }
 ],
 "metadata": {
  "kernelspec": {
   "display_name": "Python 3 (ipykernel)",
   "language": "python",
   "name": "python3"
  },
  "language_info": {
   "codemirror_mode": {
    "name": "ipython",
    "version": 3
   },
   "file_extension": ".py",
   "mimetype": "text/x-python",
   "name": "python",
   "nbconvert_exporter": "python",
   "pygments_lexer": "ipython3",
   "version": "3.8.12"
  }
 },
 "nbformat": 4,
 "nbformat_minor": 4
}
